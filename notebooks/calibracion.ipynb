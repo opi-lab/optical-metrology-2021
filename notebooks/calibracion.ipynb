{
  "nbformat": 4,
  "nbformat_minor": 0,
  "metadata": {
    "kernelspec": {
      "display_name": "Python 3",
      "language": "python",
      "name": "python3"
    },
    "language_info": {
      "codemirror_mode": {
        "name": "ipython",
        "version": 3
      },
      "file_extension": ".py",
      "mimetype": "text/x-python",
      "name": "python",
      "nbconvert_exporter": "python",
      "pygments_lexer": "ipython3",
      "version": "3.5.6"
    },
    "colab": {
      "name": "calibracion.ipynb",
      "provenance": [],
      "include_colab_link": true
    }
  },
  "cells": [
    {
      "cell_type": "markdown",
      "metadata": {
        "id": "view-in-github",
        "colab_type": "text"
      },
      "source": [
        "<a href=\"https://colab.research.google.com/github/opi-lab/optical-metrology-2021/blob/gh-pages/notebooks/calibracion.ipynb\" target=\"_parent\"><img src=\"https://colab.research.google.com/assets/colab-badge.svg\" alt=\"Open In Colab\"/></a>"
      ]
    },
    {
      "cell_type": "markdown",
      "metadata": {
        "id": "7hntDcX4JJdc"
      },
      "source": [
        "# Ejemplo de calibración \n",
        "\n",
        "Andrés Marrugo, PhD    \n",
        "Universidad Tecnológica de Bolívar "
      ]
    },
    {
      "cell_type": "markdown",
      "metadata": {
        "id": "dHx-WcxbJJdd"
      },
      "source": [
        "**Ejemplo.** Un sistema de medida de altura usando pulsos de luz. La tabla muestra los valores reales \n",
        "y los medidos (con error) cuando se incrementa la distancia y cuando se disminuye. Desarrolle la calibración y establezca el margen de error con un nivel de confianza del 99.7% para un valor medido de 4.32mm.\n",
        "\n",
        "|   X ref(mm) |   Y medido (Inc.) |   Y medido (Dism.)  |\n",
        "|-------------:|------------------:|--------------------:|\n",
        "|            0 |             -1.12 |               -0.69 |\n",
        "|            1 |              0.21 |                0.42 |\n",
        "|            2 |              1.18 |                1.65 |\n",
        "|            3 |              2.09 |                2.48 |\n",
        "|            4 |              3.33 |                3.62 |\n",
        "|            5 |              4.50 |                4.71 |\n",
        "|            6 |              5.26 |                5.87 |\n",
        "|            7 |              6.59 |                6.86 |\n",
        "|            8 |              7.73 |                7.92 |\n",
        "|            9 |              8.68 |                9.10 |\n",
        "|           10 |              9.88 |               10.20 |"
      ]
    },
    {
      "cell_type": "markdown",
      "metadata": {
        "id": "_yqqj0clJJde"
      },
      "source": [
        "## Solucion\n",
        "\n",
        "El ejercicio no lo indica, pero podríamos suponer que cada valor medido y (respuesta instrumental), viene de realizar varias mediciones para cada valor de entrada $X_{ref}$ y se calcula un promedio $\\bar{y}$ y una varianza $S$. Como tal cada valor se reporta con [un margen de error y nivel de confianza](http://www.stat.wmich.edu/s216/book/node79.html \"t-based Confidence Interval for the Mean\") $(1-\\alpha)100\\%$: \n",
        "\n",
        "$$\\bar{y}\\pm t \\left( \\tfrac{S}{\\sqrt{n}} \\right)$$\n",
        "\n",
        "donde $t$ es el valor crítico de la distribución $t_{n-1}$. Grafiquemos los datos y observemos su comportamiento."
      ]
    },
    {
      "cell_type": "code",
      "metadata": {
        "colab": {
          "base_uri": "https://localhost:8080/",
          "height": 283
        },
        "id": "hFQqHpFMJJde",
        "outputId": "dbe50a62-3809-4c01-c436-e414f2138027"
      },
      "source": [
        "import numpy as np\n",
        "import matplotlib.pyplot as plt\n",
        "%matplotlib inline\n",
        "from scipy import stats\n",
        "import seaborn as sns\n",
        "\n",
        "# X referencia: se asume su incertidumbre muy baja\n",
        "X = np.arange(0,11)\n",
        "x = np.hstack([X,X])\n",
        "\n",
        "# y\n",
        "y_inc = np.array([-1.12, 0.21, 1.18, 2.09, 3.33, 4.5, 5.26, 6.59, 7.73, 8.68, 9.88])\n",
        "y_dis = np.array([-0.69, 0.42, 1.65, 2.48, 3.62, 4.71, 5.87, 6.86, 7.92, 9.10, 10.20])\n",
        "# y = np.mean([y_inc, y_dis], axis=0)\n",
        "y = np.hstack([y_inc,y_dis])\n",
        "\n",
        "plt.plot(X,y_inc,'.k')\n",
        "plt.plot(X,y_dis,'.k')\n",
        "plt.ylabel('Y medido [mm]')\n",
        "plt.xlabel('X ref [mm]')\n",
        "plt.axis([-1,12,-2,12])\n",
        "plt.show()"
      ],
      "execution_count": 1,
      "outputs": [
        {
          "output_type": "display_data",
          "data": {
            "image/png": "[encoded data removed]",
            "text/plain": [
              "<Figure size 432x288 with 1 Axes>"
            ]
          },
          "metadata": {
            "tags": [],
            "needs_background": "light"
          }
        }
      ]
    },
    {
      "cell_type": "markdown",
      "metadata": {
        "id": "g-vQzcDFJJdf"
      },
      "source": [
        "Se observa que no hay mucha dispersión de los datos y la tendencia claramente es lineal. \n",
        "Ahora procedemos a realizar la calibración mediante regresión lineal no ponderada. Para $Y$ tomaremos \n",
        "las dos columnas. No analizaremos el error por histéresis en este momento."
      ]
    },
    {
      "cell_type": "code",
      "metadata": {
        "colab": {
          "base_uri": "https://localhost:8080/"
        },
        "id": "g0qH7cGDJJdf",
        "outputId": "c78a5974-ed38-4f65-e569-237649f3736d"
      },
      "source": [
        "# Numero de datos\n",
        "n = len(x)\n",
        "\n",
        "# polyfit computes the coefficients b1 and b0 of degree=1 via Least Squares\n",
        "p, V = np.polyfit(x,y,1,cov=True)\n",
        "\n",
        "b1 = p[0] # slope\n",
        "b0 = p[1] # intercept\n",
        "\n",
        "print('The coefficients are b1 = %2.4f and b0 = %2.4f' % (b1, b0))"
      ],
      "execution_count": 2,
      "outputs": [
        {
          "output_type": "stream",
          "text": [
            "The coefficients are b1 = 1.0839 and b0 = -0.8525\n"
          ],
          "name": "stdout"
        }
      ]
    },
    {
      "cell_type": "code",
      "metadata": {
        "colab": {
          "base_uri": "https://localhost:8080/"
        },
        "id": "1EhSmv1uJJdg",
        "outputId": "d722f017-b1a7-4ae4-9925-a738f960dc90"
      },
      "source": [
        "# Manual estimation\n",
        "\n",
        "b1 = np.sum((x-x.mean())*y)/np.sum((x-x.mean())**2)\n",
        "\n",
        "b0 = y.mean() - b1*x.mean()\n",
        "\n",
        "print('the coefficients are b1 = %2.4f, and b0 = %2.4f' % (b1,b0))\n",
        "\n",
        "\n",
        "S2yx = np.sum((y-(b1*x+b0))**2)/(n-2)\n",
        "print('The residual standard deviation: %6.4f' % np.sqrt(S2yx))\n",
        "\n",
        "S2b1 = S2yx/np.sum((x-x.mean())**2)\n",
        "print('The standard deviation of b1: %6.4f' % np.sqrt(S2b1))\n",
        "\n",
        "S2b0 = S2yx*(1/n+(x.mean()**2)/np.sum((x-x.mean())**2))\n",
        "\n",
        "print('The standard deviation of b0: %6.4f' % np.sqrt(S2b0))"
      ],
      "execution_count": 3,
      "outputs": [
        {
          "output_type": "stream",
          "text": [
            "the coefficients are b1 = 1.0839, and b0 = -0.8525\n",
            "The residual standard deviation: 0.2043\n",
            "The standard deviation of b1: 0.0138\n",
            "The standard deviation of b0: 0.0815\n"
          ],
          "name": "stdout"
        }
      ]
    },
    {
      "cell_type": "markdown",
      "metadata": {
        "id": "1-IeXzqkJJdh"
      },
      "source": [
        "Recall that the residual standard deviation $S_{y/x}$ represents the dispersion of the residue against the model. It should be normal."
      ]
    },
    {
      "cell_type": "code",
      "metadata": {
        "colab": {
          "base_uri": "https://localhost:8080/"
        },
        "id": "FizNyMXpJJdh",
        "outputId": "41493092-ac41-4570-dda6-cbb7b01d503c"
      },
      "source": [
        "# Para reportar los parametros b1 y b0 con su respectivo margen de error 99.7% confianza\n",
        "# n-2 grados de libertad porque se estimaron dos parametros \n",
        "\n",
        "t_alpha = stats.t.ppf(1-0.003/2,n-2)\n",
        "print('Con un 99.7% de confianza los valores de b1 y b0:')\n",
        "print('b1 = %2.4f ± %2.4f' % (b1, t_alpha*np.sqrt(S2b1)))\n",
        "print('b0 = %2.4f ± %2.4f' % (b0, t_alpha*np.sqrt(S2b0)))"
      ],
      "execution_count": 4,
      "outputs": [
        {
          "output_type": "stream",
          "text": [
            "Con un 99.7% de confianza los valores de b1 y b0:\n",
            "b1 = 1.0839 ± 0.0465\n",
            "b0 = -0.8525 ± 0.2751\n"
          ],
          "name": "stdout"
        }
      ]
    },
    {
      "cell_type": "code",
      "metadata": {
        "colab": {
          "base_uri": "https://localhost:8080/"
        },
        "id": "R7kIhkNHJJdi",
        "outputId": "6d408156-83ef-4426-cbec-1de92450b2c5"
      },
      "source": [
        "# Calculate real value with uncertainty based on measurement\n",
        "\n",
        "y0m = 4.32 # valor medido en mm, respuesta instrumental\n",
        "\n",
        "# usando regresion lineal para estimar valor verdadero\n",
        "x0 = (y0m-b0)/b1\n",
        "print('The estimated real value is: %6.4f' % x0)\n",
        "\n",
        "# estimar la varianza de x0 estimado\n",
        "\n",
        "S2x0 = S2yx/b1**2 * (1/2+1/n+(x0-x.mean())**2/(np.sum((x-x.mean())**2)))\n",
        "print('Estimated x0 variance is: %2.4e' % S2x0)\n",
        "\n",
        "\n",
        "# Assuming x0 approximately normal the limits of the (1-alpha)100% confidence interval\n",
        "# for the true value of x0 corresponding to the response average y0m are\n",
        "# x0m± = x0 ± t(1-alpha/2,n-2)Sx0\n",
        "# alpha is 0.05 for 95% confidence\n",
        "# n-2 degrees of freedom\n",
        "\n",
        "t_alpha = stats.t.ppf(1-0.003/2,n-2)\n",
        "\n",
        "print(stats.t.interval(1-0.003,n-2,loc=x0,scale=np.sqrt(S2x0)))\n",
        "\n",
        "\n",
        "print('The x0 value with uncertainty 99.7 is: %4.4f ± %4.4f' % (x0, t_alpha*np.sqrt(S2x0)))\n",
        "print('The x0 range is: (%4.4f, %4.4f)' % (x0-t_alpha*np.sqrt(S2x0), x0+t_alpha*np.sqrt(S2x0)))\n",
        "\n",
        "print('The bias error is: %2.4f, and the random error is: ±%2.4f' % (x0-y0m,t_alpha*np.sqrt(S2x0)))"
      ],
      "execution_count": 5,
      "outputs": [
        {
          "output_type": "stream",
          "text": [
            "The estimated real value is: 4.7723\n",
            "Estimated x0 variance is: 1.9384e-02\n",
            "(4.302192224439571, 5.2423663832349945)\n",
            "The x0 value with uncertainty 99.7 is: 4.7723 ± 0.4701\n",
            "The x0 range is: (4.3022, 5.2424)\n",
            "The bias error is: 0.4523, and the random error is: ±0.4701\n"
          ],
          "name": "stdout"
        }
      ]
    },
    {
      "cell_type": "markdown",
      "metadata": {
        "id": "MP6c1RwHJJdj"
      },
      "source": [
        "Nótese que el error *bias* (sesgo) es relativamente alto (0.4523 mm) y esto se debe a que el modelo de la respuesta instrumental no pasa por (0,0). El intersecto es en -0.8525. Esto se puede corregir en la calibración y es normal que ocurra. Por otra parte, el error aleatorio con 99.7% de confianza es relativamente pequeño y tiene sentido, pues hay poca dispersión en los datos."
      ]
    }
  ]
}